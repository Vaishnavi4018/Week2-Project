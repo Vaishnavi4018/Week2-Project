{
  "nbformat": 4,
  "nbformat_minor": 0,
  "metadata": {
    "colab": {
      "provenance": [],
      "authorship_tag": "ABX9TyMiG/c9zUgSLvDuDsFg4JNs",
      "include_colab_link": true
    },
    "kernelspec": {
      "name": "python3",
      "display_name": "Python 3"
    },
    "language_info": {
      "name": "python"
    }
  },
  "cells": [
    {
      "cell_type": "markdown",
      "metadata": {
        "id": "view-in-github",
        "colab_type": "text"
      },
      "source": [
        "<a href=\"https://colab.research.google.com/github/Vaishnavi4018/Week2-Project/blob/main/Week2_Project.ipynb\" target=\"_parent\"><img src=\"https://colab.research.google.com/assets/colab-badge.svg\" alt=\"Open In Colab\"/></a>"
      ]
    },
    {
      "cell_type": "code",
      "execution_count": 1,
      "metadata": {
        "colab": {
          "base_uri": "https://localhost:8080/"
        },
        "id": "Gj8jS_8iDgOO",
        "outputId": "528482d2-adc9-4b89-de04-6afe9c90ba9f"
      },
      "outputs": [
        {
          "output_type": "stream",
          "name": "stdout",
          "text": [
            "Error: Dataset file not found!\n"
          ]
        }
      ],
      "source": [
        "# Week2_Project.ipynb\n",
        "# Week 2 Project: Data Analysis and Machine Learning with Improvisations\n",
        "\n",
        "# Import libraries\n",
        "import pandas as pd\n",
        "import numpy as np\n",
        "from sklearn.preprocessing import MinMaxScaler\n",
        "from sklearn.model_selection import train_test_split\n",
        "from sklearn.ensemble import RandomForestClassifier\n",
        "from sklearn.metrics import accuracy_score\n",
        "import plotly.express as px\n",
        "import warnings\n",
        "warnings.filterwarnings('ignore')\n",
        "\n",
        "# Modular function for data loading with error handling\n",
        "def load_data(file_path):\n",
        "    try:\n",
        "        data = pd.read_csv(file_path)\n",
        "        print(\"Data loaded successfully!\")\n",
        "        return data\n",
        "    except FileNotFoundError:\n",
        "        print(\"Error: Dataset file not found!\")\n",
        "        return None\n",
        "    except Exception as e:\n",
        "        print(f\"Error loading data: {e}\")\n",
        "        return None\n",
        "\n",
        "# Modular function for preprocessing\n",
        "def preprocess_data(data):\n",
        "    try:\n",
        "        # Handle missing values\n",
        "        data = data.fillna(data.mean())\n",
        "        # Feature scaling with Min-Max Scaler (Improvisation)\n",
        "        scaler = MinMaxScaler()\n",
        "        numeric_cols = data.select_dtypes(include=np.number).columns\n",
        "        data[numeric_cols] = scaler.fit_transform(data[numeric_cols])\n",
        "        print(\"Data preprocessed successfully!\")\n",
        "        return data\n",
        "    except Exception as e:\n",
        "        print(f\"Error in preprocessing: {e}\")\n",
        "        return None\n",
        "\n",
        "# Modular function for visualization with Plotly (Improvisation)\n",
        "def visualize_data(data, x_col, y_col):\n",
        "    try:\n",
        "        fig = px.scatter(data, x=x_col, y=y_col, title=f\"{x_col} vs {y_col} (Interactive Plot)\")\n",
        "        fig.show()\n",
        "    except Exception as e:\n",
        "        print(f\"Error in visualization: {e}\")\n",
        "\n",
        "# Main execution\n",
        "def main():\n",
        "    # Load dataset (replace 'dataset.csv' with your downloaded dataset)\n",
        "    file_path = 'dataset.csv'  # Update with actual dataset path from LMS\n",
        "    data = load_data(file_path)\n",
        "\n",
        "    if data is not None:\n",
        "        # Preprocess data\n",
        "        data = preprocess_data(data)\n",
        "\n",
        "        if data is not None:\n",
        "            # Example: Visualize two columns (replace 'column1', 'column2' with actual column names)\n",
        "            visualize_data(data, 'column1', 'column2')\n",
        "\n",
        "            # Example: Train a Random Forest model (assuming a classification task)\n",
        "            try:\n",
        "                X = data.drop('target', axis=1)  # Replace 'target' with your target column\n",
        "                y = data['target']\n",
        "                X_train, X_test, y_train, y_test = train_test_split(X, y, test_size=0.2, random_state=42)\n",
        "\n",
        "                model = RandomForestClassifier(random_state=42)\n",
        "                model.fit(X_train, y_train)\n",
        "                y_pred = model.predict(X_test)\n",
        "                accuracy = accuracy_score(y_test, y_pred)\n",
        "                print(f\"Model Accuracy: {accuracy:.2f}\")\n",
        "            except Exception as e:\n",
        "                print(f\"Error in model training: {e}\")\n",
        "\n",
        "# Run the project\n",
        "if __name__ == \"__main__\":\n",
        "    main()"
      ]
    }
  ]
}